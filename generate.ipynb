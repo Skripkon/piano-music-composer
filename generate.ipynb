{
 "cells": [
  {
   "cell_type": "markdown",
   "metadata": {},
   "source": [
    "## GENERATING A SONG"
   ]
  },
  {
   "cell_type": "code",
   "execution_count": 1,
   "metadata": {},
   "outputs": [
    {
     "name": "stderr",
     "output_type": "stream",
     "text": [
      "2024-01-05 17:03:26.902400: I tensorflow/core/util/port.cc:113] oneDNN custom operations are on. You may see slightly different numerical results due to floating-point round-off errors from different computation orders. To turn them off, set the environment variable `TF_ENABLE_ONEDNN_OPTS=0`.\n",
      "2024-01-05 17:03:27.078731: E external/local_xla/xla/stream_executor/cuda/cuda_dnn.cc:9261] Unable to register cuDNN factory: Attempting to register factory for plugin cuDNN when one has already been registered\n",
      "2024-01-05 17:03:27.078788: E external/local_xla/xla/stream_executor/cuda/cuda_fft.cc:607] Unable to register cuFFT factory: Attempting to register factory for plugin cuFFT when one has already been registered\n",
      "2024-01-05 17:03:27.106521: E external/local_xla/xla/stream_executor/cuda/cuda_blas.cc:1515] Unable to register cuBLAS factory: Attempting to register factory for plugin cuBLAS when one has already been registered\n",
      "2024-01-05 17:03:27.167112: I tensorflow/core/platform/cpu_feature_guard.cc:182] This TensorFlow binary is optimized to use available CPU instructions in performance-critical operations.\n",
      "To enable the following instructions: AVX2 AVX512F AVX512_VNNI FMA, in other operations, rebuild TensorFlow with the appropriate compiler flags.\n",
      "2024-01-05 17:03:28.577217: W tensorflow/compiler/tf2tensorrt/utils/py_utils.cc:38] TF-TRT Warning: Could not find TensorRT\n"
     ]
    }
   ],
   "source": [
    "import os\n",
    "import music21\n",
    "from music21 import converter, note, chord\n",
    "import pickle\n",
    "import numpy as np\n",
    "from keras.models import load_model"
   ]
  },
  {
   "cell_type": "code",
   "execution_count": 2,
   "metadata": {},
   "outputs": [],
   "source": [
    "model = load_model('model/')"
   ]
  },
  {
   "cell_type": "code",
   "execution_count": 3,
   "metadata": {},
   "outputs": [],
   "source": [
    "# Define constants\n",
    "SEQUENCE_LENGTH = 100  # Adjust as needed\n",
    "EPOCHS = 100  # Adjust as needed\n",
    "BATCH_SIZE = 128  # Adjust as needed\n",
    "OUTPUT_FILE = 'output.mid'\n",
    "\n",
    "# Load Chopin MIDI files\n",
    "data_folder = 'data'\n",
    "files = [os.path.join(data_folder, file) for file \n",
    "         in os.listdir(data_folder) if file.endswith('.midi') or file.endswith('.mid')]\n",
    "\n",
    "def get_notes():\n",
    "    \"\"\" Get all the notes and chords from the MIDI files in the specified directory \"\"\"\n",
    "    notes = []\n",
    "\n",
    "    for file in files:\n",
    "        midi = converter.parse(file)\n",
    "        print(\"Parsing %s\" % file)\n",
    "        notes_to_parse = midi.flatten()\n",
    "        for element in notes_to_parse:\n",
    "            if isinstance(element, note.Note):\n",
    "                notes.append(str(element.pitch))\n",
    "            elif isinstance(element, chord.Chord):\n",
    "                notes.append('.'.join(str(n) for n in element.pitches))\n",
    "    return notes\n",
    "\n",
    "notes_file_path = 'data/notes'\n",
    "notes = []\n",
    "\n",
    "if os.path.exists(notes_file_path):\n",
    "    # Loading notes from the file\n",
    "    with open('data/notes', 'rb') as filepath:\n",
    "        notes = pickle.load(filepath)\n",
    "else:\n",
    "    # createing a list of ntoes\n",
    "    notes = get_notes()\n",
    "    # saving notes to the file:\n",
    "    with open('data/notes', 'wb') as filepath:\n",
    "        pickle.dump(notes, filepath)\n",
    "\n",
    "# Create input sequences and corresponding output\n",
    "unique_notes = sorted(set(notes))\n",
    "note_to_int = dict((note, number) for number, note in enumerate(unique_notes))\n",
    "int_to_note = dict((number, note) for number, note in enumerate(unique_notes))\n",
    "\n",
    "input_sequences = []\n",
    "output_sequences = []\n",
    "for i in range(len(notes) - SEQUENCE_LENGTH):\n",
    "    sequence_in = notes[i:i + SEQUENCE_LENGTH]\n",
    "    sequence_out = notes[i + SEQUENCE_LENGTH]\n",
    "    input_sequences.append([note_to_int[char] for char in sequence_in])\n",
    "    output_sequences.append(note_to_int[sequence_out])\n"
   ]
  },
  {
   "cell_type": "code",
   "execution_count": 115,
   "metadata": {},
   "outputs": [],
   "source": [
    "start = np.random.randint(0, len(input_sequences) - 1)"
   ]
  },
  {
   "cell_type": "code",
   "execution_count": 118,
   "metadata": {},
   "outputs": [
    {
     "name": "stdout",
     "output_type": "stream",
     "text": [
      "0/100 | F#3\n",
      "1/100 | B-4\n",
      "2/100 | G#4\n",
      "3/100 | C#3\n",
      "4/100 | F#4\n",
      "5/100 | F#2\n",
      "6/100 | F#4\n",
      "7/100 | C#3\n",
      "8/100 | E-5\n",
      "9/100 | F#3\n",
      "10/100 | E4.C#5\n",
      "11/100 | B2\n",
      "12/100 | F#4\n",
      "13/100 | F#3\n",
      "14/100 | B-4\n",
      "15/100 | E-4\n",
      "16/100 | F#4\n",
      "17/100 | B3\n",
      "18/100 | G4\n",
      "19/100 | C#3\n",
      "20/100 | F#4\n",
      "21/100 | F#2\n",
      "22/100 | F#4\n",
      "23/100 | C#3\n",
      "24/100 | E-5\n",
      "25/100 | F#3\n",
      "26/100 | E4.C#5\n",
      "27/100 | B2\n",
      "28/100 | E-5.F#5\n",
      "29/100 | F#3\n",
      "30/100 | E4.C#5\n",
      "31/100 | B2\n",
      "32/100 | F#4\n",
      "33/100 | F#3\n",
      "34/100 | B4.E-5\n",
      "35/100 | E-3\n",
      "36/100 | F#4\n",
      "37/100 | B3\n",
      "38/100 | G4\n",
      "39/100 | C#3\n",
      "40/100 | F#4\n",
      "41/100 | F#2\n",
      "42/100 | F#4\n",
      "43/100 | C#3\n",
      "44/100 | E-5\n",
      "45/100 | F#3\n",
      "46/100 | E4.C#5\n",
      "47/100 | B2\n",
      "48/100 | F#4\n",
      "49/100 | F#3\n",
      "50/100 | B-4\n",
      "51/100 | B2\n",
      "52/100 | F#4\n",
      "53/100 | F#3\n",
      "54/100 | B-4\n",
      "55/100 | B3\n",
      "56/100 | F#4\n",
      "57/100 | E-3\n",
      "58/100 | B-4\n",
      "59/100 | E-4\n",
      "60/100 | F#4\n",
      "61/100 | E-4\n",
      "62/100 | B4\n",
      "63/100 | E-4\n",
      "64/100 | F#4\n",
      "65/100 | E3\n",
      "66/100 | B-3\n",
      "67/100 | C#4\n",
      "68/100 | F#4\n",
      "69/100 | B3\n",
      "70/100 | B-4\n",
      "71/100 | E-4\n",
      "72/100 | F#4\n",
      "73/100 | F#3\n",
      "74/100 | B-4\n",
      "75/100 | E-4\n",
      "76/100 | F#4\n",
      "77/100 | B3\n",
      "78/100 | C#5\n",
      "79/100 | C#5\n",
      "80/100 | F#4\n",
      "81/100 | F#3\n",
      "82/100 | F#2\n",
      "83/100 | F#2\n",
      "84/100 | F#4\n",
      "85/100 | B3\n",
      "86/100 | B3\n",
      "87/100 | E-5\n",
      "88/100 | F#3\n",
      "89/100 | E4\n",
      "90/100 | F#2\n",
      "91/100 | F#4\n",
      "92/100 | E-2\n",
      "93/100 | B3\n",
      "94/100 | E-3\n",
      "95/100 | F#4\n",
      "96/100 | B-3\n",
      "97/100 | F#2\n",
      "98/100 | F#3\n",
      "99/100 | C#4\n"
     ]
    }
   ],
   "source": [
    "pattern = input_sequences[start]\n",
    "prediction_output = []\n",
    "number_of_notes_to_generate = 100\n",
    "for i in range(number_of_notes_to_generate):\n",
    "    input_sequence = np.reshape(pattern, (1, len(pattern), 1))\n",
    "    input_sequence = input_sequence / float(len(unique_notes))\n",
    "\n",
    "    prediction = model.predict(input_sequence, verbose=0)\n",
    "    index = np.argmax(prediction)\n",
    "    result = int_to_note[index]\n",
    "    print(f\"{i}/{number_of_notes_to_generate} | {result}\")\n",
    "    prediction_output.append(result)\n",
    "    pattern.append(index)\n",
    "    pattern = pattern[1:]"
   ]
  },
  {
   "cell_type": "code",
   "execution_count": 120,
   "metadata": {},
   "outputs": [
    {
     "data": {
      "text/plain": [
       "'output.mid'"
      ]
     },
     "execution_count": 120,
     "metadata": {},
     "output_type": "execute_result"
    }
   ],
   "source": [
    "# Convert output to MIDI file\n",
    "output_midi = music21.stream.Stream()\n",
    "shift = 0\n",
    "for pattern in prediction_output:\n",
    "    if '.' in pattern:   # it's a chord\n",
    "        notes_in_chord = pattern.split('.') # notes for the chord (numbers)\n",
    "        chord_notes = [music21.note.Note() for _ in notes_in_chord] # real notes\n",
    "        for i, note_in_chord in enumerate(notes_in_chord):\n",
    "            chord_notes[i].pitch = music21.pitch.Pitch(note_in_chord)\n",
    "        chord = music21.chord.Chord(chord_notes, quarterlength=0.5) # the chord per se\n",
    "        output_midi.insert(shift, chord) # adding the chord to the stream\n",
    "        shift += 0.3\n",
    "    else:   # it's a note\n",
    "        note = music21.note.Note(quarterlength=0.5)\n",
    "        note.pitch = music21.pitch.Pitch(pattern)\n",
    "        output_midi.insert(shift, note) # adding the note to the stream\n",
    "        shift += 0.3\n",
    "\n",
    "output_midi.write('midi', fp=OUTPUT_FILE)"
   ]
  }
 ],
 "metadata": {
  "kernelspec": {
   "display_name": "Python 3",
   "language": "python",
   "name": "python3"
  },
  "language_info": {
   "codemirror_mode": {
    "name": "ipython",
    "version": 3
   },
   "file_extension": ".py",
   "mimetype": "text/x-python",
   "name": "python",
   "nbconvert_exporter": "python",
   "pygments_lexer": "ipython3",
   "version": "3.11.6"
  }
 },
 "nbformat": 4,
 "nbformat_minor": 2
}
