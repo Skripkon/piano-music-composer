{
 "cells": [
  {
   "cell_type": "markdown",
   "metadata": {},
   "source": [
    "# Music Generation with LSTM model"
   ]
  },
  {
   "cell_type": "markdown",
   "metadata": {},
   "source": [
    "## Imports"
   ]
  },
  {
   "cell_type": "code",
   "execution_count": 15,
   "metadata": {},
   "outputs": [],
   "source": [
    "\n",
    "from keras.models import Sequential\n",
    "from keras.layers import LSTM, Dense, Dropout, Activation\n",
    "from keras.utils import to_categorical\n",
    "from keras.layers import BatchNormalization\n",
    "from keras.callbacks import ModelCheckpoint\n",
    "from music21 import converter, note, chord\n",
    "import os\n",
    "import pickle\n",
    "import numpy as np"
   ]
  },
  {
   "cell_type": "markdown",
   "metadata": {},
   "source": [
    "## Load Chopin MIDI files"
   ]
  },
  {
   "cell_type": "code",
   "execution_count": 3,
   "metadata": {},
   "outputs": [],
   "source": [
    "data_folder = 'data'\n",
    "files = [os.path.join(data_folder, file) for file \n",
    "         in os.listdir(data_folder) if file.endswith('.mid')]"
   ]
  },
  {
   "cell_type": "code",
   "execution_count": 4,
   "metadata": {},
   "outputs": [
    {
     "data": {
      "text/plain": [
       "['data/chpn-p4.mid',\n",
       " 'data/chpn-p14.mid',\n",
       " 'data/chpn-p3.mid',\n",
       " 'data/chpn-p7.mid',\n",
       " 'data/chpn_op66.mid',\n",
       " 'data/chpn_op25_e1.mid',\n",
       " 'data/chpn_op27_2.mid',\n",
       " 'data/chpn_op25_e4.mid',\n",
       " 'data/chpn_op7_2.mid',\n",
       " 'data/chpn_op7_1.mid',\n",
       " 'data/chpn-p10.mid',\n",
       " 'data/chpn_op25_e3.mid',\n",
       " 'data/chpn_op25_e2.mid',\n",
       " 'data/chpn-p5.mid',\n",
       " 'data/chpn_op35_4.mid',\n",
       " 'data/chpn_op10_e05.mid',\n",
       " 'data/chpn-p21.mid',\n",
       " 'data/chpn-p15.mid',\n",
       " 'data/chpn-p24.mid',\n",
       " 'data/chpn_op35_1.mid',\n",
       " 'data/chpn-p17.mid',\n",
       " 'data/chpn-p6.mid',\n",
       " 'data/chpn_op33_4.mid',\n",
       " 'data/chpn-p11.mid',\n",
       " 'data/chpn_op10_e12.mid',\n",
       " 'data/chpn-p22.mid',\n",
       " 'data/chpn_op10_e01.mid',\n",
       " 'data/chpn-p23.mid',\n",
       " 'data/chpn-p2.mid',\n",
       " 'data/chpn-p18.mid',\n",
       " 'data/chpn_op33_2.mid',\n",
       " 'data/chpn-p13.mid',\n",
       " 'data/chpn_op23.mid',\n",
       " 'data/chpn_op35_2.mid',\n",
       " 'data/chpn-p9.mid',\n",
       " 'data/chpn_op53.mid',\n",
       " 'data/chpn_op35_3.mid',\n",
       " 'data/chp_op18.mid',\n",
       " 'data/chpn-p19.mid',\n",
       " 'data/chpn-p16.mid',\n",
       " 'data/chpn-p1.mid',\n",
       " 'data/chpn_op25_e12.mid',\n",
       " 'data/chp_op31.mid',\n",
       " 'data/chpn_op25_e11.mid',\n",
       " 'data/chpn-p20.mid',\n",
       " 'data/chpn_op27_1.mid',\n",
       " 'data/chpn-p12.mid',\n",
       " 'data/chpn-p8.mid']"
      ]
     },
     "execution_count": 4,
     "metadata": {},
     "output_type": "execute_result"
    }
   ],
   "source": [
    "files"
   ]
  },
  {
   "cell_type": "code",
   "execution_count": 7,
   "metadata": {},
   "outputs": [],
   "source": [
    "def get_notes_from_the_files(files):\n",
    "    \"\"\" Get all the notes and chords from the MIDI files in the specified directory \"\"\"\n",
    "    notes = []\n",
    "    for file in files:\n",
    "        print(f\"{file} parsing...\")\n",
    "        midi = converter.parse(file)\n",
    "        notes_to_parse = midi.flatten()\n",
    "        # D C E -> D.C.E\n",
    "        for element in notes_to_parse:\n",
    "            if isinstance(element, note.Note):\n",
    "                notes.append(str(element.pitch))\n",
    "            elif isinstance(element, chord.Chord):\n",
    "                notes.append('.'.join(str(n) for n in element.pitches))\n",
    "    return notes"
   ]
  },
  {
   "cell_type": "code",
   "execution_count": 8,
   "metadata": {},
   "outputs": [
    {
     "name": "stdout",
     "output_type": "stream",
     "text": [
      "data/chpn-p4.mid parsing...\n",
      "data/chpn-p14.mid parsing...\n",
      "data/chpn-p3.mid parsing...\n",
      "data/chpn-p7.mid parsing...\n",
      "data/chpn_op66.mid parsing...\n",
      "data/chpn_op25_e1.mid parsing...\n",
      "data/chpn_op27_2.mid parsing...\n",
      "data/chpn_op25_e4.mid parsing...\n",
      "data/chpn_op7_2.mid parsing...\n",
      "data/chpn_op7_1.mid parsing...\n",
      "data/chpn-p10.mid parsing...\n",
      "data/chpn_op25_e3.mid parsing...\n",
      "data/chpn_op25_e2.mid parsing...\n",
      "data/chpn-p5.mid parsing...\n",
      "data/chpn_op35_4.mid parsing...\n",
      "data/chpn_op10_e05.mid parsing...\n",
      "data/chpn-p21.mid parsing...\n",
      "data/chpn-p15.mid parsing...\n",
      "data/chpn-p24.mid parsing...\n",
      "data/chpn_op35_1.mid parsing...\n",
      "data/chpn-p17.mid parsing...\n",
      "data/chpn-p6.mid parsing...\n",
      "data/chpn_op33_4.mid parsing...\n",
      "data/chpn-p11.mid parsing...\n",
      "data/chpn_op10_e12.mid parsing...\n",
      "data/chpn-p22.mid parsing...\n",
      "data/chpn_op10_e01.mid parsing...\n",
      "data/chpn-p23.mid parsing...\n",
      "data/chpn-p2.mid parsing...\n",
      "data/chpn-p18.mid parsing...\n",
      "data/chpn_op33_2.mid parsing...\n",
      "data/chpn-p13.mid parsing...\n",
      "data/chpn_op23.mid parsing...\n",
      "data/chpn_op35_2.mid parsing...\n",
      "data/chpn-p9.mid parsing...\n",
      "data/chpn_op53.mid parsing...\n",
      "data/chpn_op35_3.mid parsing...\n",
      "data/chp_op18.mid parsing...\n",
      "data/chpn-p19.mid parsing...\n",
      "data/chpn-p16.mid parsing...\n",
      "data/chpn-p1.mid parsing...\n",
      "data/chpn_op25_e12.mid parsing...\n",
      "data/chp_op31.mid parsing...\n",
      "data/chpn_op25_e11.mid parsing...\n",
      "data/chpn-p20.mid parsing...\n",
      "data/chpn_op27_1.mid parsing...\n",
      "data/chpn-p12.mid parsing...\n",
      "data/chpn-p8.mid parsing...\n"
     ]
    }
   ],
   "source": [
    "notes_file_path = f'{data_folder}/notes'\n",
    "notes = []\n",
    "\n",
    "if os.path.exists(notes_file_path):\n",
    "   # Loading notes from the file\n",
    "   with open('data/notes', 'rb') as filepath:\n",
    "       notes = pickle.load(filepath)\n",
    "else:\n",
    "   # creating a list of notes\n",
    "   notes = get_notes_from_the_files(files)\n",
    "   # saving notes to the file:\n",
    "   with open('data/notes', 'wb') as filepath:\n",
    "       pickle.dump(notes, filepath)"
   ]
  },
  {
   "cell_type": "code",
   "execution_count": 10,
   "metadata": {},
   "outputs": [
    {
     "data": {
      "text/plain": [
       "['B3',\n",
       " 'B4',\n",
       " 'B4',\n",
       " 'G3.B3.E4',\n",
       " 'G3.B3.E4',\n",
       " 'G3.B3.E4',\n",
       " 'G3.B3.E4',\n",
       " 'G3.B3.E4',\n",
       " 'G3.B3.E4',\n",
       " 'C5']"
      ]
     },
     "execution_count": 10,
     "metadata": {},
     "output_type": "execute_result"
    }
   ],
   "source": [
    "notes[0:10]"
   ]
  },
  {
   "cell_type": "code",
   "execution_count": 11,
   "metadata": {},
   "outputs": [],
   "source": [
    "SEQUENCE_LENGTH = 100"
   ]
  },
  {
   "cell_type": "code",
   "execution_count": 12,
   "metadata": {},
   "outputs": [],
   "source": [
    "# Create input sequences and corresponding output\n",
    "unique_notes = sorted(set(notes))\n",
    "note_to_int = dict((note, number) for number, note in enumerate(unique_notes))\n",
    "int_to_note = dict((number, note) for number, note in enumerate(unique_notes))\n",
    "\n",
    "input_sequences = []\n",
    "output_sequences = []\n",
    "\n",
    "for i in range(len(notes) - SEQUENCE_LENGTH):\n",
    "    sequence_in = notes[i:i + SEQUENCE_LENGTH]\n",
    "    sequence_out = notes[SEQUENCE_LENGTH]\n",
    "    input_sequences.append([note_to_int[char] for char in sequence_in])\n",
    "    output_sequences.append(note_to_int[sequence_out])"
   ]
  },
  {
   "cell_type": "markdown",
   "metadata": {},
   "source": [
    "## Build and train LSTM model"
   ]
  },
  {
   "cell_type": "code",
   "execution_count": 13,
   "metadata": {},
   "outputs": [],
   "source": [
    "EPOCHS = 100  # Adjust as needed\n",
    "BATCH_SIZE = 128  # Adjust as needed"
   ]
  },
  {
   "cell_type": "code",
   "execution_count": null,
   "metadata": {},
   "outputs": [],
   "source": [
    "# Reshape input sequences\n",
    "X = np.reshape(input_sequences, (len(input_sequences), SEQUENCE_LENGTH, 1))\n",
    "X = X / float(len(unique_notes))\n",
    "\n",
    "# One-hot encode output sequences\n",
    "y = to_categorical(output_sequences)\n",
    "\n",
    "model = Sequential()\n",
    "model.add(LSTM(512, input_shape=(X.shape[1], X.shape[2]), return_sequences=True))\n",
    "model.add(LSTM(512, return_sequences=True))\n",
    "model.add(LSTM(512))\n",
    "model.add(Dense(256))\n",
    "model.add(Activation('relu'))\n",
    "model.add(BatchNormalization())\n",
    "model.add(Dropout(0.3))\n",
    "model.add(Dense(y.shape[1], activation='softmax'))\n",
    "\n",
    "checkpoint = ModelCheckpoint('model/', save_best_only=True, monitor='loss')\n",
    "\n",
    "model.compile(loss='categorical_crossentropy', optimizer='adam')\n",
    "\n",
    "check_point = ModelCheckpoint('model/', save_best_only=True, monitor='loss')\n",
    "model.compile(loss='categorical_crossentropy', optimizer='rmsprop')"
   ]
  },
  {
   "cell_type": "code",
   "execution_count": null,
   "metadata": {},
   "outputs": [],
   "source": [
    "# Train the model\n",
    "model.fit(X, y, epochs=EPOCHS, batch_size=BATCH_SIZE, callbacks=[check_point])\n"
   ]
  }
 ],
 "metadata": {
  "kernelspec": {
   "display_name": "Python 3",
   "language": "python",
   "name": "python3"
  },
  "language_info": {
   "codemirror_mode": {
    "name": "ipython",
    "version": 3
   },
   "file_extension": ".py",
   "mimetype": "text/x-python",
   "name": "python",
   "nbconvert_exporter": "python",
   "pygments_lexer": "ipython3",
   "version": "3.11.6"
  }
 },
 "nbformat": 4,
 "nbformat_minor": 2
}
